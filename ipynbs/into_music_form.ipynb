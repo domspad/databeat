{
 "metadata": {
  "name": ""
 },
 "nbformat": 3,
 "nbformat_minor": 0,
 "worksheets": [
  {
   "cells": [
    {
     "cell_type": "heading",
     "level": 3,
     "metadata": {},
     "source": [
      "Looking through `quietnet` source"
     ]
    },
    {
     "cell_type": "code",
     "collapsed": false,
     "input": [
      "# Translating from characters to binary (using psk dictionary)\n",
      "# Notice the padding\n",
      "def encode(string):\n",
      "    result = []\n",
      "    for c in string:\n",
      "        result.append(psk[c])\n",
      "    return '00'.join(result) + '00'"
     ],
     "language": "python",
     "metadata": {},
     "outputs": []
    },
    {
     "cell_type": "heading",
     "level": 3,
     "metadata": {},
     "source": [
      "How binary strings are translated to music `buffer`"
     ]
    },
    {
     "cell_type": "code",
     "collapsed": false,
     "input": [
      "\n",
      "#from options.py\n",
      "rate = 44100  #pitch related (diff with freq?)\n",
      "freq = 500\t\t\t# chosen because it is outside most people's hearing and worked for my microphone and speakers\n",
      "channels = 1   #pitch and speed related - only can be 1 or 2\n",
      "frame_length = 10 #size of beeps\n",
      "chunk = 256\t\t#size of beeps\n",
      "datasize = chunk * frame_length\n",
      "sigil = \"00\"\n",
      "\n",
      "#from send.py\n",
      "DATASIZE = options.datasize\n",
      "def make_buffer_from_bit_pattern(pattern, on_freq, off_freq):\n",
      "    \"\"\" Takes a pattern and returns an audio buffer that encodes that pattern \"\"\"\n",
      "    # the key's middle value is the bit's value and the left and right bits are the bits before and after\n",
      "    # the buffers are enveloped to cleanly blend into each other\n",
      "\n",
      "    \n",
      "    \"\"\" Reads through bits:\n",
      "            determines freq for given bit\n",
      "            creates tone at that freq\n",
      "            envelopes tone \n",
      "            adds tone to the output (as list)\n",
      "        \n",
      "    \"\"\"\n",
      "    last_bit = pattern[-1]\n",
      "    output_buffer = []\n",
      "    offset = 0\n",
      "\n",
      "    for i in range(len(pattern)):\n",
      "        bit = pattern[i]\n",
      "        if i < len(pattern) - 1:\n",
      "            next_bit = pattern[i+1]\n",
      "        else:\n",
      "            next_bit = pattern[0]\n",
      "\n",
      "        freq = on_freq if bit == '1' else off_freq\n",
      "        tone = quietnet.tone(freq, DATASIZE, offset=offset)\n",
      "        output_buffer += quietnet.envelope(tone, left=last_bit=='0', right=next_bit=='0')\n",
      "        offset += DATASIZE\n",
      "        last_bit = bit\n",
      "\n",
      "    return quietnet.pack_buffer(output_buffer)\n",
      "\n",
      "#from quietnet.py\n",
      "def tone(freq=400, datasize=4096, rate=44100, amp=12000.0, offset=0):\n",
      "    \"\"\"Returns a tone at given frequency in form of list of sine values\"\"\"\n",
      "    sine_list=[]\n",
      "    for x in range(datasize):\n",
      "        samp = math.sin(2*math.pi*freq*((x + offset)/float(rate)))\n",
      "        sine_list.append(int(samp*amp))\n",
      "    return sine_list\n",
      "\n",
      "def envelope(in_data, left=True, right=True, rate=44100):\n",
      "    \"\"\"Returns a softer version of tone (i.e. enveloped) based on previous and next bits\"\"\"\n",
      "    half = float(len(in_data)) / 2\n",
      "    freq = math.pi / (len(in_data) / 2)\n",
      "    out_data = []\n",
      "\n",
      "    for x in range(len(in_data)):\n",
      "        samp = in_data[x]\n",
      "        if (x < half and left) or (right and x >= half):\n",
      "            samp = samp * (1 + math.sin(freq*x - (math.pi / 2))) / 2\n",
      "        out_data.append(int(samp))\n",
      "\n",
      "    return out_data"
     ],
     "language": "python",
     "metadata": {},
     "outputs": []
    },
    {
     "cell_type": "code",
     "collapsed": false,
     "input": [],
     "language": "python",
     "metadata": {},
     "outputs": []
    },
    {
     "cell_type": "code",
     "collapsed": false,
     "input": [],
     "language": "python",
     "metadata": {},
     "outputs": []
    },
    {
     "cell_type": "code",
     "collapsed": false,
     "input": [],
     "language": "python",
     "metadata": {},
     "outputs": []
    },
    {
     "cell_type": "heading",
     "level": 3,
     "metadata": {},
     "source": [
      "How to layer frequencies and not just play sequentially"
     ]
    },
    {
     "cell_type": "code",
     "collapsed": false,
     "input": [],
     "language": "python",
     "metadata": {},
     "outputs": []
    }
   ],
   "metadata": {}
  }
 ]
}