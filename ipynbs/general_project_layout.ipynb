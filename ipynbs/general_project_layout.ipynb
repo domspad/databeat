{
 "metadata": {
  "name": ""
 },
 "nbformat": 3,
 "nbformat_minor": 0,
 "worksheets": [
  {
   "cells": [
    {
     "cell_type": "markdown",
     "metadata": {},
     "source": [
      "main datastructs:\n",
      "\n",
      "- `data` == the given np.array\n",
      "- `pitches` == a list representing the pitch associated with each col of `data`\n",
      "- `notelength` == int?\n",
      "- `maxlength` == some limit on how long the music should be (so doesn't play for 10 mins)\n",
      "- `note` == the representation of the sound that one row will have\n",
      "- `music` == the representation of translated music (probably list of `note`s)\n",
      "\n",
      "\n",
      "methods to implement:\n",
      "\n",
      "- `databeat(data)` ==> plays array (main function)\n",
      "- `translate(row, notelength)` ==> returns `note` to be appended to music\n",
      "    - `gen_notes(numcols)` ==> returns `pitches`\n",
      "    - `binarize(row)` ==> returns binary form of row\n",
      "- `play_beat(music)` ==> interfaces with `pyaudio` to play `music`"
     ]
    },
    {
     "cell_type": "code",
     "collapsed": false,
     "input": [],
     "language": "python",
     "metadata": {},
     "outputs": []
    }
   ],
   "metadata": {}
  }
 ]
}